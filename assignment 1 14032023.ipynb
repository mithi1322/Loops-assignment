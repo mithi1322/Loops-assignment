{
 "cells": [
  {
   "cell_type": "markdown",
   "id": "f89c3ef4-6868-4817-8c07-201335c8c349",
   "metadata": {},
   "source": [
    "Q1.  Explain with an example each when to use a for loop and a while loop."
   ]
  },
  {
   "cell_type": "code",
   "execution_count": 2,
   "id": "54ddd9b7-7298-4f8e-a02f-875c57c46e76",
   "metadata": {},
   "outputs": [
    {
     "name": "stdout",
     "output_type": "stream",
     "text": [
      "1\n",
      "2\n",
      "3\n",
      "4\n",
      "5\n"
     ]
    }
   ],
   "source": [
    "# for loop: A for loop is a control flow statement that executes code in loop body repeatedly for a particular number of iterations\n",
    "# print the value of a list.\n",
    "l= [1, 2, 3,4,5]  # Initialization\n",
    "for i in l:  # Condition and Updation\n",
    "    print(i)"
   ]
  },
  {
   "cell_type": "code",
   "execution_count": 3,
   "id": "8906db07-6e71-4d55-a2cb-bedc6a6646d8",
   "metadata": {},
   "outputs": [
    {
     "name": "stdout",
     "output_type": "stream",
     "text": [
      "2\n",
      "4\n",
      "6\n",
      "8\n",
      "10\n"
     ]
    }
   ],
   "source": [
    "# for while: A loop that executes a single statement or a group of statements for the given true condition\n",
    "# print even number in between 1 to 10.\n",
    "i = 1  # Initialization\n",
    "while i <= 10:  # Condition\n",
    "    if i%2==0:\n",
    "        print(i)\n",
    "    i += 1  # Updation"
   ]
  },
  {
   "cell_type": "markdown",
   "id": "c54b9806-9658-41a9-9d40-b7ce75b43d23",
   "metadata": {},
   "source": [
    "Q2.   Write a python program to print the sum and product of the first 10 natural numbers using for \n",
    "      and while loop."
   ]
  },
  {
   "cell_type": "code",
   "execution_count": 8,
   "id": "2689a2b2-3fd7-40db-9be0-eb3e3c5b1636",
   "metadata": {},
   "outputs": [
    {
     "name": "stdout",
     "output_type": "stream",
     "text": [
      " sum = 55 \n",
      " product = 3628800\n"
     ]
    }
   ],
   "source": [
    "#from for loop \n",
    "l1=[1,2,3,4,5,6,7,8,9,10]\n",
    "add=0\n",
    "prod=1\n",
    "for i in l1:\n",
    "    add=add+i\n",
    "    prod=prod*i\n",
    "print(\" sum =\",add,\"\\n\",\"product =\",prod)"
   ]
  },
  {
   "cell_type": "code",
   "execution_count": 9,
   "id": "d2f97c64-914c-415c-91e0-bdfb1d5d30e4",
   "metadata": {},
   "outputs": [
    {
     "name": "stdout",
     "output_type": "stream",
     "text": [
      " sum = 55 \n",
      " product = 3628800\n"
     ]
    }
   ],
   "source": [
    "#from while loop \n",
    "j=1\n",
    "add=0\n",
    "prod=1\n",
    "while j<=10:\n",
    "    add=add+j\n",
    "    prod=prod*j\n",
    "    j=j+1\n",
    "print(\" sum =\",add,\"\\n\",\"product =\", prod)"
   ]
  },
  {
   "cell_type": "markdown",
   "id": "f8d082bb-9340-4ff2-9d04-1be5bbb23359",
   "metadata": {},
   "source": [
    "Q3. Create a python program to compute the electricity bill for a household.\n",
    "The per-unit charges in rupees are as follows: For the first 100 units, the user will be charged Rs. 4.5 per \n",
    "unit, for the next 100 units, the user will be charged Rs. 6 per unit, and for the next 100 units, the user will \n",
    "be charged Rs. 10 per unit, After 300 units and above the user will be charged Rs. 20 per unit."
   ]
  },
  {
   "cell_type": "code",
   "execution_count": 10,
   "id": "f9bd4c7f-fecb-4595-b25c-d0ee55fa5a1e",
   "metadata": {},
   "outputs": [
    {
     "name": "stdout",
     "output_type": "stream",
     "text": [
      "enter the unit of electricity consumed\n"
     ]
    },
    {
     "name": "stdin",
     "output_type": "stream",
     "text": [
      "None 310\n"
     ]
    },
    {
     "name": "stdout",
     "output_type": "stream",
     "text": [
      "Total electricity bill is = 2250.0\n"
     ]
    }
   ],
   "source": [
    "unit=0\n",
    "number=int(input(print(\"enter the unit of electricity consumed\")))\n",
    "if number>=300:\n",
    "        unit=100*(4.5+6+10)+(number-300)*20\n",
    "        print(\"Total electricity bill is =\",unit)\n",
    "elif number>=200 and number <300:\n",
    "        unit=100*(4.5+6)+(number-200)*10\n",
    "        print(\"Total electricity bill is =\",unit)\n",
    "elif number>=100 and number <200:\n",
    "        unit=100*(4.5)+(number-100)*6\n",
    "        print(\"Total electricity bill is =\",unit)\n",
    "elif number>=0 and number<100:\n",
    "        unit=number*4.5\n",
    "        print(\"Total electricity bill is =\",unit)"
   ]
  },
  {
   "cell_type": "markdown",
   "id": "701f25f5-cfc1-4062-a907-b0901d67887a",
   "metadata": {},
   "source": [
    "Q4. Create a list of numbers from 1 to 100. Use for loop and while loop to calculate the cube of each \n",
    "number and if the cube of that number is divisible by 4 or 5 then append that number in a list and print \n",
    "that list."
   ]
  },
  {
   "cell_type": "code",
   "execution_count": 3,
   "id": "9ea62280-6a0f-4942-866f-804c05f11b97",
   "metadata": {},
   "outputs": [
    {
     "name": "stdout",
     "output_type": "stream",
     "text": [
      "list of number from 1 to 100 is  [1, 2, 3, 4, 5, 6, 7, 8, 9, 10, 11, 12, 13, 14, 15, 16, 17, 18, 19, 20, 21, 22, 23, 24, 25, 26, 27, 28, 29, 30, 31, 32, 33, 34, 35, 36, 37, 38, 39, 40, 41, 42, 43, 44, 45, 46, 47, 48, 49, 50, 51, 52, 53, 54, 55, 56, 57, 58, 59, 60, 61, 62, 63, 64, 65, 66, 67, 68, 69, 70, 71, 72, 73, 74, 75, 76, 77, 78, 79, 80, 81, 82, 83, 84, 85, 86, 87, 88, 89, 90, 91, 92, 93, 94, 95, 96, 97, 98, 99, 100] \n",
      "\n",
      "list of cube of number from 1 to 100 is  [1, 8, 27, 64, 125, 216, 343, 512, 729, 1000, 1331, 1728, 2197, 2744, 3375, 4096, 4913, 5832, 6859, 8000, 9261, 10648, 12167, 13824, 15625, 17576, 19683, 21952, 24389, 27000, 29791, 32768, 35937, 39304, 42875, 46656, 50653, 54872, 59319, 64000, 68921, 74088, 79507, 85184, 91125, 97336, 103823, 110592, 117649, 125000, 132651, 140608, 148877, 157464, 166375, 175616, 185193, 195112, 205379, 216000, 226981, 238328, 250047, 262144, 274625, 287496, 300763, 314432, 328509, 343000, 357911, 373248, 389017, 405224, 421875, 438976, 456533, 474552, 493039, 512000, 531441, 551368, 571787, 592704, 614125, 636056, 658503, 681472, 704969, 729000, 753571, 778688, 804357, 830584, 857375, 884736, 912673, 941192, 970299, 1000000] \n",
      "\n",
      "the list of that number which cube of that number is divisible by 4 and 5 is  [10, 20, 30, 40, 50, 60, 70, 80, 90, 100]\n"
     ]
    }
   ],
   "source": [
    "l=list()\n",
    "l1=list()\n",
    "l2=list()\n",
    "for i in range(100):\n",
    "    l.append(i+1)\n",
    "print(\"list of number from 1 to 100 is \",l,\"\\n\")\n",
    "for j in range(100):\n",
    "    i=j+1\n",
    "    l1.append(i*i*i)\n",
    "print(\"list of cube of number from 1 to 100 is \",l1,\"\\n\")\n",
    "for j in range(100):\n",
    "    i=j+1\n",
    "    if (i*i*i)%4==0 and (i*i*i)%5==0:\n",
    "        l2.append(i)\n",
    "print(\"the list of that number which cube of that number is divisible by 4 and 5 is \",l2)"
   ]
  },
  {
   "cell_type": "markdown",
   "id": "3bc7d3af-fb42-4a41-ac41-7f74ff2cb543",
   "metadata": {},
   "source": [
    "Q5.  Write a program to filter count vowels in the below-given string.\n",
    "string = \"I want to become a data scientist\""
   ]
  },
  {
   "cell_type": "code",
   "execution_count": 5,
   "id": "f1e6e9ff-3b09-454e-a011-ff85fe757ecf",
   "metadata": {},
   "outputs": [
    {
     "name": "stdout",
     "output_type": "stream",
     "text": [
      "number of vowels in a given string is  12\n"
     ]
    }
   ],
   "source": [
    "s=\"I want to become a data scientist\"\n",
    "s=str(s.lower())\n",
    "count=0\n",
    "i=0\n",
    "for i in range(len(s)):\n",
    "    if (s[i]==\"a\" or s[i]==\"e\" or s[i]==\"i\" or s[i]==\"o\" or s[i]==\"u\"):\n",
    "        count+=1\n",
    "print(\"number of vowels in a given string is \",count)"
   ]
  },
  {
   "cell_type": "code",
   "execution_count": null,
   "id": "99ebf038-ced2-4a66-a708-4760152a3a0e",
   "metadata": {},
   "outputs": [],
   "source": []
  }
 ],
 "metadata": {
  "kernelspec": {
   "display_name": "Python 3 (ipykernel)",
   "language": "python",
   "name": "python3"
  },
  "language_info": {
   "codemirror_mode": {
    "name": "ipython",
    "version": 3
   },
   "file_extension": ".py",
   "mimetype": "text/x-python",
   "name": "python",
   "nbconvert_exporter": "python",
   "pygments_lexer": "ipython3",
   "version": "3.10.8"
  }
 },
 "nbformat": 4,
 "nbformat_minor": 5
}
